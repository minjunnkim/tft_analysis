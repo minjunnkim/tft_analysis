{
 "cells": [
  {
   "cell_type": "markdown",
   "metadata": {},
   "source": [
    "### Model Training\n",
    "\n",
    "#### Imports"
   ]
  },
  {
   "cell_type": "code",
   "execution_count": null,
   "metadata": {},
   "outputs": [],
   "source": [
    "import pandas as pd\n",
    "import numpy as np\n",
    "from sklearn.model_selection import train_test_split\n",
    "from sklearn.ensemble import RandomForestClassifier\n",
    "from sklearn.metrics import accuracy_score, classification_report, confusion_matrix\n",
    "import matplotlib.pyplot as plt\n",
    "import seaborn as sns"
   ]
  },
  {
   "cell_type": "code",
   "execution_count": null,
   "metadata": {},
   "outputs": [],
   "source": [
    "# Load the processed data\n",
    "df = pd.read_csv('../../data/processed/tft_match_data_with_features.csv')"
   ]
  },
  {
   "cell_type": "code",
   "execution_count": null,
   "metadata": {},
   "outputs": [],
   "source": [
    "unit_tier_columns = [col for col in df.columns if col.endswith('_tier')]\n",
    "unit_rarity_columns = [col for col in df.columns if col.endswith('_rarity')]\n",
    "trait_columns = [col for col in df.columns if col.endswith('_style')]\n",
    "\n",
    "# Select features and target\n",
    "X = df.drop(columns=['match_id', 'puuid', 'augments', 'activated_traits_list', 'units_on_board'] + unit_tier_columns + unit_rarity_columns + trait_columns)\n",
    "y = df['placement']"
   ]
  },
  {
   "cell_type": "code",
   "execution_count": null,
   "metadata": {},
   "outputs": [],
   "source": [
    "# Train-test split\n",
    "X_train, X_test, y_train, y_test = train_test_split(X, y, test_size=0.2, random_state=42)"
   ]
  },
  {
   "cell_type": "code",
   "execution_count": null,
   "metadata": {},
   "outputs": [],
   "source": [
    "# Initialize and train the model\n",
    "model = RandomForestClassifier(random_state=42)\n",
    "model.fit(X_train, y_train)"
   ]
  },
  {
   "cell_type": "code",
   "execution_count": null,
   "metadata": {},
   "outputs": [],
   "source": [
    "# Make predictions\n",
    "y_pred = model.predict(X_test)"
   ]
  },
  {
   "cell_type": "code",
   "execution_count": null,
   "metadata": {},
   "outputs": [],
   "source": [
    "# Evaluate the model\n",
    "accuracy = accuracy_score(y_test, y_pred)\n",
    "print(f\"Accuracy: {accuracy:.2f}\")\n",
    "\n",
    "# Classification report\n",
    "print(\"Classification Report:\")\n",
    "print(classification_report(y_test, y_pred))"
   ]
  },
  {
   "cell_type": "code",
   "execution_count": null,
   "metadata": {},
   "outputs": [],
   "source": [
    "# Confusion matrix\n",
    "conf_matrix = confusion_matrix(y_test, y_pred)\n",
    "\n",
    "plt.figure(figsize=(10, 8))\n",
    "sns.heatmap(conf_matrix, annot=True, fmt='d', cmap='Blues')\n",
    "plt.title('Confusion Matrix')\n",
    "plt.xlabel('Predicted')\n",
    "plt.ylabel('Actual')\n",
    "plt.show()"
   ]
  },
  {
   "cell_type": "code",
   "execution_count": null,
   "metadata": {},
   "outputs": [],
   "source": [
    "# Feature importance\n",
    "feature_importance = pd.Series(model.feature_importances_, index=X.columns).sort_values(ascending=False)\n",
    "\n",
    "plt.figure(figsize=(12, len(X.columns)/4))\n",
    "sns.barplot(x=feature_importance.values, y=feature_importance.index)\n",
    "plt.title('Feature Importance')\n",
    "plt.show()"
   ]
  },
  {
   "cell_type": "code",
   "execution_count": null,
   "metadata": {},
   "outputs": [],
   "source": [
    "# Separate columns into different categories\n",
    "value_columns = [col for col in X.columns if col.endswith('_value')]\n",
    "activated_trait_columns = [col for col in X.columns if col.endswith('_style_activated')]\n",
    "augment_columns = df.columns[df.columns.str.contains('Augment')].tolist()\n",
    "other_columns = ['total_damage_to_players', 'last_round', 'time_eliminated', 'total_unit_values', 'avg_unit_tiers', 'avg_unit_rarities', 'gold_left', 'num_activated_traits', 'level']\n",
    "\n",
    "# Function to plot feature importance\n",
    "def plot_feature_importance(columns, title):\n",
    "    feature_importance_subset = feature_importance[columns].sort_values(ascending=False)\n",
    "\n",
    "    feature_importance_subset.index = [index.replace('_style_activated', '').replace('_value', '').replace('TFT', '') for index in feature_importance_subset.index] \n",
    "\n",
    "    plt.figure(figsize=(12, len(columns)/4))\n",
    "    sns.barplot(x=feature_importance_subset.values, y=feature_importance_subset.index)\n",
    "    plt.title(f'Feature Importance: {title}')\n",
    "    plt.show()\n",
    "\n",
    "# Plot feature importance for each category\n",
    "plot_feature_importance(value_columns, 'Units\\' Values')\n",
    "plot_feature_importance(activated_trait_columns, 'Traits')\n",
    "plot_feature_importance(augment_columns, 'Augments')\n",
    "plot_feature_importance(other_columns, 'Other Variables')"
   ]
  },
  {
   "cell_type": "markdown",
   "metadata": {},
   "source": [
    "#### Correlation Analysis"
   ]
  },
  {
   "cell_type": "code",
   "execution_count": null,
   "metadata": {},
   "outputs": [],
   "source": [
    "# Calculate correlations between features and placement\n",
    "correlations = df.drop(columns=['match_id', 'puuid', 'augments', 'activated_traits_list', 'units_on_board'] + unit_tier_columns + unit_rarity_columns + trait_columns).corr()['placement'].sort_values()\n",
    "\n",
    "correlations.index = [index.replace('_style_activated', '').replace('_value', '').replace('TFT', '') for index in correlations.index] \n",
    "\n",
    "\n",
    "# Display the top features negatively correlated with placement\n",
    "print(\"Top features negatively correlated with placement (contributing to better performance):\")\n",
    "print(correlations.head(10))\n",
    "\n",
    "# Display the top features positively correlated with placement\n",
    "print(\"\\nTop features positively correlated with placement (contributing to worse performance):\")\n",
    "print(correlations.tail(10))\n",
    "\n",
    "# Plot the correlations\n",
    "plt.figure(figsize=(12, len(correlations)/4))\n",
    "sns.barplot(x=correlations.values, y=correlations.index)\n",
    "plt.title('Correlation with Placement')\n",
    "plt.xlabel('Correlation Coefficient')\n",
    "plt.ylabel('Features')\n",
    "plt.show()"
   ]
  },
  {
   "cell_type": "code",
   "execution_count": null,
   "metadata": {},
   "outputs": [],
   "source": [
    "# Example function to make predictions given a board configuration\n",
    "def predict_placement(model, board_config, feature_columns):\n",
    "    # Create a DataFrame with a single row representing the board configuration\n",
    "    input_df = pd.DataFrame([board_config])\n",
    "    \n",
    "    # Identify missing columns\n",
    "    missing_cols = list(set(feature_columns) - set(input_df.columns))\n",
    "    \n",
    "    # Create a DataFrame with missing columns set to 0\n",
    "    missing_df = pd.DataFrame(0, index=input_df.index, columns=missing_cols)\n",
    "    \n",
    "    # Concatenate the input DataFrame with the missing columns DataFrame\n",
    "    input_df = pd.concat([input_df, missing_df], axis=1)\n",
    "    \n",
    "    # Ensure the columns match the training data\n",
    "    input_df = input_df[feature_columns]\n",
    "    \n",
    "    # Make the prediction\n",
    "    prediction = model.predict(input_df)\n",
    "    return prediction[0]\n",
    "\n",
    "# Example board configuration (update this with real values)\n",
    "example_board = {\n",
    "    'total_damage_to_players': 44,\n",
    "    'time_eliminated': 1743.713134765625,\n",
    "    'gold_left': 1,\n",
    "    'last_round': 28,\n",
    "    'level': 8,\n",
    "    'num_activated_traits': 3,\n",
    "    'total_unit_values': 1000,\n",
    "    'avg_unit_tiers': 2.5,\n",
    "    'avg_unit_rarities': 3.5,\n",
    "    'TFT9_Augment_WhatDoesntKillYou': 1,\n",
    "    'TFT9_Augment_BigGrabBag': 1,\n",
    "    'TFT9_Augment_JeweledLotus': 1,\n",
    "\n",
    "    # ... add more features based on your model\n",
    "}\n",
    "\n",
    "feature_columns = X.columns.tolist()\n",
    "\n",
    "# Predict the placement\n",
    "predicted_placement = predict_placement(model, example_board, feature_columns)\n",
    "print(f\"Predicted Placement: {predicted_placement}\")"
   ]
  }
 ],
 "metadata": {
  "kernelspec": {
   "display_name": ".venv",
   "language": "python",
   "name": "python3"
  },
  "language_info": {
   "codemirror_mode": {
    "name": "ipython",
    "version": 3
   },
   "file_extension": ".py",
   "mimetype": "text/x-python",
   "name": "python",
   "nbconvert_exporter": "python",
   "pygments_lexer": "ipython3",
   "version": "3.11.9"
  }
 },
 "nbformat": 4,
 "nbformat_minor": 2
}
